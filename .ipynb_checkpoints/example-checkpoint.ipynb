{
 "cells": [
  {
   "cell_type": "code",
   "execution_count": null,
   "metadata": {},
   "outputs": [
    {
     "name": "stderr",
     "output_type": "stream",
     "text": [
      "100%|█████████▉| 2520/2521 [00:00<00:00, 10000.39it/s]\n",
      " 67%|██████▋   | 1693/2521 [01:41<01:09, 11.91it/s]"
     ]
    }
   ],
   "source": [
    "from backtester import BackTester, Strategy1, Strategy2\n",
    "import pandas as pd\n",
    "import seaborn as sns\n",
    "import matplotlib.pyplot as plt\n",
    "\n",
    "if __name__ == \"__main__\":\n",
    "\tstock_market_prices = pd.read_csv(\"stock_prices_train.csv\", index_col = 0)\n",
    "\trisk_free_rates = pd.read_csv(\"risk_free_train.csv\", index_col = 0) \n",
    "\tstrategy_base = Strategy1()\n",
    "\tstrategy_capm = Strategy2()\n",
    "\tBT_1 = BackTester(stock_market_prices, risk_free_rates, strategy_base)\n",
    "\tBT_2 = BackTester(stock_market_prices, risk_free_rates, strategy_capm)\n",
    "\tBT_1.run(verbose = False)\n",
    "\tBT_2.run(verbose = False)\n",
    "\n",
    "\tsns_plot = sns.distplot(BT_1.dailiy_excR)\n",
    "\tsns_plot = sns.distplot(BT_2.dailiy_excR)\n",
    "\n",
    "\tplt.show()\n",
    "\n",
    "\tsns_plot.savefig(\"capm_vs_baseline.png\")"
   ]
  },
  {
   "cell_type": "code",
   "execution_count": null,
   "metadata": {},
   "outputs": [],
   "source": []
  }
 ],
 "metadata": {
  "kernelspec": {
   "display_name": "Python 3",
   "language": "python",
   "name": "python3"
  },
  "language_info": {
   "codemirror_mode": {
    "name": "ipython",
    "version": 3
   },
   "file_extension": ".py",
   "mimetype": "text/x-python",
   "name": "python",
   "nbconvert_exporter": "python",
   "pygments_lexer": "ipython3",
   "version": "3.6.8"
  }
 },
 "nbformat": 4,
 "nbformat_minor": 2
}
